{
 "cells": [
  {
   "cell_type": "markdown",
   "metadata": {},
   "source": [
    "# Import Libraries and Data"
   ]
  },
  {
   "cell_type": "code",
   "execution_count": 1,
   "metadata": {},
   "outputs": [],
   "source": [
    "import pandas as pd\n",
    "import numpy as np\n",
    "import matplotlib.pyplot as plt\n",
    "import seaborn as sns\n",
    "from scipy import stats"
   ]
  },
  {
   "cell_type": "code",
   "execution_count": 2,
   "metadata": {},
   "outputs": [
    {
     "data": {
      "text/html": [
       "<div>\n",
       "<style scoped>\n",
       "    .dataframe tbody tr th:only-of-type {\n",
       "        vertical-align: middle;\n",
       "    }\n",
       "\n",
       "    .dataframe tbody tr th {\n",
       "        vertical-align: top;\n",
       "    }\n",
       "\n",
       "    .dataframe thead th {\n",
       "        text-align: right;\n",
       "    }\n",
       "</style>\n",
       "<table border=\"1\" class=\"dataframe\">\n",
       "  <thead>\n",
       "    <tr style=\"text-align: right;\">\n",
       "      <th></th>\n",
       "      <th>Company \\n(Maker-if known)</th>\n",
       "      <th>Specific Bean Origin\\nor Bar Name</th>\n",
       "      <th>REF</th>\n",
       "      <th>Review\\nDate</th>\n",
       "      <th>Cocoa\\nPercent</th>\n",
       "      <th>Company\\nLocation</th>\n",
       "      <th>Rating</th>\n",
       "      <th>Bean\\nType</th>\n",
       "      <th>Broad Bean\\nOrigin</th>\n",
       "    </tr>\n",
       "  </thead>\n",
       "  <tbody>\n",
       "    <tr>\n",
       "      <th>0</th>\n",
       "      <td>A. Morin</td>\n",
       "      <td>Agua Grande</td>\n",
       "      <td>1876</td>\n",
       "      <td>2016</td>\n",
       "      <td>63%</td>\n",
       "      <td>France</td>\n",
       "      <td>3.75</td>\n",
       "      <td></td>\n",
       "      <td>Sao Tome</td>\n",
       "    </tr>\n",
       "    <tr>\n",
       "      <th>1</th>\n",
       "      <td>A. Morin</td>\n",
       "      <td>Kpime</td>\n",
       "      <td>1676</td>\n",
       "      <td>2015</td>\n",
       "      <td>70%</td>\n",
       "      <td>France</td>\n",
       "      <td>2.75</td>\n",
       "      <td></td>\n",
       "      <td>Togo</td>\n",
       "    </tr>\n",
       "    <tr>\n",
       "      <th>2</th>\n",
       "      <td>A. Morin</td>\n",
       "      <td>Atsane</td>\n",
       "      <td>1676</td>\n",
       "      <td>2015</td>\n",
       "      <td>70%</td>\n",
       "      <td>France</td>\n",
       "      <td>3.00</td>\n",
       "      <td></td>\n",
       "      <td>Togo</td>\n",
       "    </tr>\n",
       "    <tr>\n",
       "      <th>3</th>\n",
       "      <td>A. Morin</td>\n",
       "      <td>Akata</td>\n",
       "      <td>1680</td>\n",
       "      <td>2015</td>\n",
       "      <td>70%</td>\n",
       "      <td>France</td>\n",
       "      <td>3.50</td>\n",
       "      <td></td>\n",
       "      <td>Togo</td>\n",
       "    </tr>\n",
       "    <tr>\n",
       "      <th>4</th>\n",
       "      <td>A. Morin</td>\n",
       "      <td>Quilla</td>\n",
       "      <td>1704</td>\n",
       "      <td>2015</td>\n",
       "      <td>70%</td>\n",
       "      <td>France</td>\n",
       "      <td>3.50</td>\n",
       "      <td></td>\n",
       "      <td>Peru</td>\n",
       "    </tr>\n",
       "  </tbody>\n",
       "</table>\n",
       "</div>"
      ],
      "text/plain": [
       "  Company \\n(Maker-if known) Specific Bean Origin\\nor Bar Name   REF  \\\n",
       "0                   A. Morin                       Agua Grande  1876   \n",
       "1                   A. Morin                             Kpime  1676   \n",
       "2                   A. Morin                            Atsane  1676   \n",
       "3                   A. Morin                             Akata  1680   \n",
       "4                   A. Morin                            Quilla  1704   \n",
       "\n",
       "   Review\\nDate Cocoa\\nPercent Company\\nLocation  Rating Bean\\nType  \\\n",
       "0          2016            63%            France    3.75              \n",
       "1          2015            70%            France    2.75              \n",
       "2          2015            70%            France    3.00              \n",
       "3          2015            70%            France    3.50              \n",
       "4          2015            70%            France    3.50              \n",
       "\n",
       "  Broad Bean\\nOrigin  \n",
       "0           Sao Tome  \n",
       "1               Togo  \n",
       "2               Togo  \n",
       "3               Togo  \n",
       "4               Peru  "
      ]
     },
     "execution_count": 2,
     "metadata": {},
     "output_type": "execute_result"
    }
   ],
   "source": [
    "#import data\n",
    "data = pd.read_csv('flavors_of_cacao.csv')\n",
    "\n",
    "#check\n",
    "data.head()"
   ]
  },
  {
   "cell_type": "markdown",
   "metadata": {},
   "source": [
    "# Data Overview"
   ]
  },
  {
   "cell_type": "code",
   "execution_count": 3,
   "metadata": {},
   "outputs": [
    {
     "data": {
      "text/plain": [
       "(1795, 9)"
      ]
     },
     "execution_count": 3,
     "metadata": {},
     "output_type": "execute_result"
    }
   ],
   "source": [
    "#get dimensions\n",
    "data.shape"
   ]
  },
  {
   "cell_type": "code",
   "execution_count": 6,
   "metadata": {},
   "outputs": [
    {
     "name": "stdout",
     "output_type": "stream",
     "text": [
      "<class 'pandas.core.frame.DataFrame'>\n",
      "RangeIndex: 1795 entries, 0 to 1794\n",
      "Data columns (total 9 columns):\n",
      " #   Column                            Non-Null Count  Dtype  \n",
      "---  ------                            --------------  -----  \n",
      " 0   Company \n",
      "(Maker-if known)         1795 non-null   object \n",
      " 1   Specific Bean Origin\n",
      "or Bar Name  1795 non-null   object \n",
      " 2   REF                               1795 non-null   int64  \n",
      " 3   Review\n",
      "Date                       1795 non-null   int64  \n",
      " 4   Cocoa\n",
      "Percent                     1795 non-null   object \n",
      " 5   Company\n",
      "Location                  1795 non-null   object \n",
      " 6   Rating                            1795 non-null   float64\n",
      " 7   Bean\n",
      "Type                         1794 non-null   object \n",
      " 8   Broad Bean\n",
      "Origin                 1794 non-null   object \n",
      "dtypes: float64(1), int64(2), object(6)\n",
      "memory usage: 126.3+ KB\n"
     ]
    }
   ],
   "source": [
    "#get info\n",
    "data.info()"
   ]
  },
  {
   "cell_type": "code",
   "execution_count": 7,
   "metadata": {},
   "outputs": [
    {
     "data": {
      "text/plain": [
       "0"
      ]
     },
     "execution_count": 7,
     "metadata": {},
     "output_type": "execute_result"
    }
   ],
   "source": [
    "#check for duplicates\n",
    "data.duplicated().sum()"
   ]
  },
  {
   "cell_type": "code",
   "execution_count": 9,
   "metadata": {},
   "outputs": [
    {
     "data": {
      "text/plain": [
       "Company \\n(Maker-if known)           0\n",
       "Specific Bean Origin\\nor Bar Name    0\n",
       "REF                                  0\n",
       "Review\\nDate                         0\n",
       "Cocoa\\nPercent                       0\n",
       "Company\\nLocation                    0\n",
       "Rating                               0\n",
       "Bean\\nType                           1\n",
       "Broad Bean\\nOrigin                   1\n",
       "dtype: int64"
      ]
     },
     "execution_count": 9,
     "metadata": {},
     "output_type": "execute_result"
    }
   ],
   "source": [
    "#check for nulls\n",
    "data.isna().sum()"
   ]
  },
  {
   "cell_type": "markdown",
   "metadata": {},
   "source": [
    "Performing an overview of the data provides a sense of the size of the data, the features and their data types, the number of duplicates and nulls if any. This is a crucial steps as it provides an inital guide to cleaning and exploring the data"
   ]
  },
  {
   "cell_type": "markdown",
   "metadata": {},
   "source": [
    "# EDA - cleaning included here"
   ]
  },
  {
   "cell_type": "code",
   "execution_count": 4,
   "metadata": {},
   "outputs": [],
   "source": [
    "# make a copy to make cahnges to\n",
    "data_copy = data.copy()"
   ]
  },
  {
   "cell_type": "code",
   "execution_count": 5,
   "metadata": {},
   "outputs": [
    {
     "data": {
      "text/plain": [
       "Index(['Company  (Maker-if known)', 'Specific Bean Origin or Bar Name', 'REF',\n",
       "       'Review Date', 'Cocoa Percent', 'Company Location', 'Rating',\n",
       "       'Bean Type', 'Broad Bean Origin'],\n",
       "      dtype='object')"
      ]
     },
     "execution_count": 5,
     "metadata": {},
     "output_type": "execute_result"
    }
   ],
   "source": [
    "# The feature names are a little wonky, so let's change those first\n",
    "\n",
    "def replace_char(string, char_to_remove, replacement):\n",
    "    if char_to_remove in string:\n",
    "        string = string.replace(char_to_remove, replacement)\n",
    "    return string\n",
    "\n",
    "new_columns = [] #empty list to append new name\n",
    "for column in data_copy.columns:\n",
    "    new_column = replace_char(column, \"\\n\", \" \") # replace char with space\n",
    "    new_columns.append(new_column) # append new column to list\n",
    "\n",
    "data_copy.columns = new_columns # assign new names to columns in df\n",
    "\n",
    "data_copy.columns #check work"
   ]
  },
  {
   "cell_type": "markdown",
   "metadata": {},
   "source": [
    "The documentation on [Kaggle](https://www.kaggle.com/datasets/rtatman/chocolate-bar-ratings?resource=download) indicates there are empty values in the Bean Type column, but our null check didn't pick up on it so let's explore that a bit."
   ]
  },
  {
   "cell_type": "code",
   "execution_count": 17,
   "metadata": {},
   "outputs": [
    {
     "data": {
      "text/plain": [
       "Company  (Maker-if known)           0\n",
       "Specific Bean Origin or Bar Name    0\n",
       "REF                                 0\n",
       "Review Date                         0\n",
       "Cocoa Percent                       0\n",
       "Company Location                    0\n",
       "Rating                              0\n",
       "Bean Type                           1\n",
       "Broad Bean Origin                   1\n",
       "dtype: int64"
      ]
     },
     "execution_count": 17,
     "metadata": {},
     "output_type": "execute_result"
    }
   ],
   "source": [
    "# double check nulls\n",
    "data_copy.isna().sum()"
   ]
  },
  {
   "cell_type": "code",
   "execution_count": 23,
   "metadata": {},
   "outputs": [
    {
     "data": {
      "text/plain": [
       "Bean Type\n",
       "                            887\n",
       "Trinitario                  419\n",
       "Criollo                     153\n",
       "Forastero                    87\n",
       "Forastero (Nacional)         52\n",
       "Blend                        41\n",
       "Criollo, Trinitario          39\n",
       "Forastero (Arriba)           37\n",
       "Criollo (Porcelana)          10\n",
       "Trinitario, Criollo           9\n",
       "Forastero (Parazinho)         8\n",
       "Forastero (Arriba) ASS        6\n",
       "Nacional (Arriba)             3\n",
       "Matina                        3\n",
       "EET                           3\n",
       "Beniano                       3\n",
       "Criollo (Ocumare 61)          2\n",
       "Trinitario, Forastero         2\n",
       "Trinitario (85% Criollo)      2\n",
       "Forastero (Catongo)           2\n",
       "Criollo, Forastero            2\n",
       "Amazon, ICS                   2\n",
       "Criollo (Amarru)              2\n",
       "Amazon mix                    2\n",
       "Nacional                      2\n",
       "Criollo (Ocumare)             1\n",
       "Criollo (Ocumare 67)          1\n",
       "Trinitario, TCGA              1\n",
       "Trinitario (Amelonado)        1\n",
       "Trinitario, Nacional          1\n",
       "Forastero (Amelonado)         1\n",
       "Forastero, Trinitario         1\n",
       "Forastero (Arriba) ASSS       1\n",
       "Forastero(Arriba, CCN)        1\n",
       "Criollo, +                    1\n",
       "Criollo (Wild)                1\n",
       "Trinitario (Scavina)          1\n",
       "Criollo (Ocumare 77)          1\n",
       "CCN51                         1\n",
       "Amazon                        1\n",
       "Blend-Forastero,Criollo       1\n",
       "Name: count, dtype: int64"
      ]
     },
     "execution_count": 23,
     "metadata": {},
     "output_type": "execute_result"
    }
   ],
   "source": [
    "# check to value counts for bean type\n",
    "data_copy['Bean Type'].value_counts() "
   ]
  },
  {
   "cell_type": "code",
   "execution_count": 25,
   "metadata": {},
   "outputs": [
    {
     "data": {
      "text/html": [
       "<div>\n",
       "<style scoped>\n",
       "    .dataframe tbody tr th:only-of-type {\n",
       "        vertical-align: middle;\n",
       "    }\n",
       "\n",
       "    .dataframe tbody tr th {\n",
       "        vertical-align: top;\n",
       "    }\n",
       "\n",
       "    .dataframe thead th {\n",
       "        text-align: right;\n",
       "    }\n",
       "</style>\n",
       "<table border=\"1\" class=\"dataframe\">\n",
       "  <thead>\n",
       "    <tr style=\"text-align: right;\">\n",
       "      <th></th>\n",
       "      <th>Company  (Maker-if known)</th>\n",
       "      <th>Specific Bean Origin or Bar Name</th>\n",
       "      <th>REF</th>\n",
       "      <th>Review Date</th>\n",
       "      <th>Cocoa Percent</th>\n",
       "      <th>Company Location</th>\n",
       "      <th>Rating</th>\n",
       "      <th>Bean Type</th>\n",
       "      <th>Broad Bean Origin</th>\n",
       "    </tr>\n",
       "  </thead>\n",
       "  <tbody>\n",
       "    <tr>\n",
       "      <th>451</th>\n",
       "      <td>Coppeneur</td>\n",
       "      <td>Madagascar</td>\n",
       "      <td>959</td>\n",
       "      <td>2012</td>\n",
       "      <td>70%</td>\n",
       "      <td>Germany</td>\n",
       "      <td>3.50</td>\n",
       "      <td>Trinitario</td>\n",
       "      <td>Madagascar</td>\n",
       "    </tr>\n",
       "    <tr>\n",
       "      <th>1190</th>\n",
       "      <td>Nova Monda</td>\n",
       "      <td>La Patriota, cacao Indio, purple label</td>\n",
       "      <td>931</td>\n",
       "      <td>2012</td>\n",
       "      <td>70%</td>\n",
       "      <td>Nicaragua</td>\n",
       "      <td>3.00</td>\n",
       "      <td></td>\n",
       "      <td>Nicaragua</td>\n",
       "    </tr>\n",
       "    <tr>\n",
       "      <th>502</th>\n",
       "      <td>Danta</td>\n",
       "      <td>Las Acacias E.</td>\n",
       "      <td>987</td>\n",
       "      <td>2012</td>\n",
       "      <td>70%</td>\n",
       "      <td>Guatemala</td>\n",
       "      <td>4.00</td>\n",
       "      <td>Criollo</td>\n",
       "      <td>Guatemala</td>\n",
       "    </tr>\n",
       "    <tr>\n",
       "      <th>202</th>\n",
       "      <td>Bittersweet Origins</td>\n",
       "      <td>Puerto Plata</td>\n",
       "      <td>414</td>\n",
       "      <td>2009</td>\n",
       "      <td>65%</td>\n",
       "      <td>U.S.A.</td>\n",
       "      <td>3.50</td>\n",
       "      <td></td>\n",
       "      <td>Dominican Republic</td>\n",
       "    </tr>\n",
       "    <tr>\n",
       "      <th>1340</th>\n",
       "      <td>Pump Street Bakery</td>\n",
       "      <td>Crayfish Bay Estate, 2014</td>\n",
       "      <td>1502</td>\n",
       "      <td>2015</td>\n",
       "      <td>70%</td>\n",
       "      <td>U.K.</td>\n",
       "      <td>3.50</td>\n",
       "      <td>Trinitario</td>\n",
       "      <td>Grenada</td>\n",
       "    </tr>\n",
       "    <tr>\n",
       "      <th>1760</th>\n",
       "      <td>Xocolla</td>\n",
       "      <td>Hispaniola, batch 170104</td>\n",
       "      <td>1948</td>\n",
       "      <td>2017</td>\n",
       "      <td>70%</td>\n",
       "      <td>U.S.A.</td>\n",
       "      <td>2.50</td>\n",
       "      <td></td>\n",
       "      <td>Dominican Republic</td>\n",
       "    </tr>\n",
       "    <tr>\n",
       "      <th>832</th>\n",
       "      <td>Hotel Chocolat (Coppeneur)</td>\n",
       "      <td>Somia Plantation, Akesson, 2012</td>\n",
       "      <td>1065</td>\n",
       "      <td>2013</td>\n",
       "      <td>72%</td>\n",
       "      <td>U.K.</td>\n",
       "      <td>3.00</td>\n",
       "      <td>Trinitario</td>\n",
       "      <td>Madagascar</td>\n",
       "    </tr>\n",
       "    <tr>\n",
       "      <th>847</th>\n",
       "      <td>Hotel Chocolat (Coppeneur)</td>\n",
       "      <td>Uba Budo</td>\n",
       "      <td>300</td>\n",
       "      <td>2008</td>\n",
       "      <td>72%</td>\n",
       "      <td>U.K.</td>\n",
       "      <td>3.00</td>\n",
       "      <td>Forastero</td>\n",
       "      <td>Sao Tome</td>\n",
       "    </tr>\n",
       "    <tr>\n",
       "      <th>274</th>\n",
       "      <td>Burnt Fork Bend</td>\n",
       "      <td>Trinidad</td>\n",
       "      <td>1299</td>\n",
       "      <td>2014</td>\n",
       "      <td>72%</td>\n",
       "      <td>U.S.A.</td>\n",
       "      <td>3.25</td>\n",
       "      <td>Trinitario</td>\n",
       "      <td>Trinidad</td>\n",
       "    </tr>\n",
       "    <tr>\n",
       "      <th>1562</th>\n",
       "      <td>Spagnvola</td>\n",
       "      <td>AgroCriso Plantation</td>\n",
       "      <td>793</td>\n",
       "      <td>2012</td>\n",
       "      <td>70%</td>\n",
       "      <td>U.S.A.</td>\n",
       "      <td>3.00</td>\n",
       "      <td></td>\n",
       "      <td>Dominican Republic</td>\n",
       "    </tr>\n",
       "  </tbody>\n",
       "</table>\n",
       "</div>"
      ],
      "text/plain": [
       "       Company  (Maker-if known)        Specific Bean Origin or Bar Name  \\\n",
       "451                    Coppeneur                              Madagascar   \n",
       "1190                  Nova Monda  La Patriota, cacao Indio, purple label   \n",
       "502                        Danta                          Las Acacias E.   \n",
       "202          Bittersweet Origins                            Puerto Plata   \n",
       "1340          Pump Street Bakery               Crayfish Bay Estate, 2014   \n",
       "1760                     Xocolla                Hispaniola, batch 170104   \n",
       "832   Hotel Chocolat (Coppeneur)         Somia Plantation, Akesson, 2012   \n",
       "847   Hotel Chocolat (Coppeneur)                                Uba Budo   \n",
       "274              Burnt Fork Bend                                Trinidad   \n",
       "1562                   Spagnvola                    AgroCriso Plantation   \n",
       "\n",
       "       REF  Review Date Cocoa Percent Company Location  Rating   Bean Type  \\\n",
       "451    959         2012           70%          Germany    3.50  Trinitario   \n",
       "1190   931         2012           70%        Nicaragua    3.00               \n",
       "502    987         2012           70%        Guatemala    4.00     Criollo   \n",
       "202    414         2009           65%           U.S.A.    3.50               \n",
       "1340  1502         2015           70%             U.K.    3.50  Trinitario   \n",
       "1760  1948         2017           70%           U.S.A.    2.50               \n",
       "832   1065         2013           72%             U.K.    3.00  Trinitario   \n",
       "847    300         2008           72%             U.K.    3.00   Forastero   \n",
       "274   1299         2014           72%           U.S.A.    3.25  Trinitario   \n",
       "1562   793         2012           70%           U.S.A.    3.00               \n",
       "\n",
       "       Broad Bean Origin  \n",
       "451           Madagascar  \n",
       "1190           Nicaragua  \n",
       "502            Guatemala  \n",
       "202   Dominican Republic  \n",
       "1340             Grenada  \n",
       "1760  Dominican Republic  \n",
       "832           Madagascar  \n",
       "847             Sao Tome  \n",
       "274             Trinidad  \n",
       "1562  Dominican Republic  "
      ]
     },
     "execution_count": 25,
     "metadata": {},
     "output_type": "execute_result"
    }
   ],
   "source": [
    "#get random sample of data for sanity check\n",
    "data_copy.sample(10)"
   ]
  },
  {
   "cell_type": "code",
   "execution_count": 29,
   "metadata": {},
   "outputs": [
    {
     "data": {
      "text/plain": [
       "array(['\\xa0', 'Criollo', 'Trinitario', 'Forastero (Arriba)', 'Forastero',\n",
       "       'Forastero (Nacional)', 'Criollo, Trinitario',\n",
       "       'Criollo (Porcelana)', 'Blend', 'Trinitario (85% Criollo)',\n",
       "       'Forastero (Catongo)', 'Forastero (Parazinho)',\n",
       "       'Trinitario, Criollo', 'CCN51', 'Criollo (Ocumare)', 'Nacional',\n",
       "       'Criollo (Ocumare 61)', 'Criollo (Ocumare 77)',\n",
       "       'Criollo (Ocumare 67)', 'Criollo (Wild)', 'Beniano', 'Amazon mix',\n",
       "       'Trinitario, Forastero', 'Forastero (Arriba) ASS', 'Criollo, +',\n",
       "       'Amazon', 'Amazon, ICS', 'EET', 'Blend-Forastero,Criollo',\n",
       "       'Trinitario (Scavina)', 'Criollo, Forastero', 'Matina',\n",
       "       'Forastero(Arriba, CCN)', 'Nacional (Arriba)',\n",
       "       'Forastero (Arriba) ASSS', 'Forastero, Trinitario',\n",
       "       'Forastero (Amelonado)', nan, 'Trinitario, Nacional',\n",
       "       'Trinitario (Amelonado)', 'Trinitario, TCGA', 'Criollo (Amarru)'],\n",
       "      dtype=object)"
      ]
     },
     "execution_count": 29,
     "metadata": {},
     "output_type": "execute_result"
    }
   ],
   "source": [
    "#check unique values for feature\n",
    "data_copy['Bean Type'].unique()\n",
    "\n",
    "# \\xa0 is the culprit"
   ]
  },
  {
   "cell_type": "code",
   "execution_count": 6,
   "metadata": {},
   "outputs": [
    {
     "data": {
      "text/plain": [
       "Company  (Maker-if known)             0\n",
       "Specific Bean Origin or Bar Name      0\n",
       "REF                                   0\n",
       "Review Date                           0\n",
       "Cocoa Percent                         0\n",
       "Company Location                      0\n",
       "Rating                                0\n",
       "Bean Type                           888\n",
       "Broad Bean Origin                     1\n",
       "dtype: int64"
      ]
     },
     "execution_count": 6,
     "metadata": {},
     "output_type": "execute_result"
    }
   ],
   "source": [
    "#replace \\xa0 char from above\n",
    "data_copy['Bean Type'] = data_copy['Bean Type'].replace(\"\\xa0\", np.nan)\n",
    "\n",
    "#null check\n",
    "data_copy.isna().sum()"
   ]
  },
  {
   "cell_type": "code",
   "execution_count": 7,
   "metadata": {},
   "outputs": [
    {
     "data": {
      "text/plain": [
       "Company  (Maker-if known)             0\n",
       "Specific Bean Origin or Bar Name      0\n",
       "REF                                   0\n",
       "Review Date                           0\n",
       "Cocoa Percent                         0\n",
       "Company Location                      0\n",
       "Rating                                0\n",
       "Bean Type                           888\n",
       "Broad Bean Origin                    74\n",
       "dtype: int64"
      ]
     },
     "execution_count": 7,
     "metadata": {},
     "output_type": "execute_result"
    }
   ],
   "source": [
    "#check Broad Bean Origin nulls\n",
    "data_copy[data_copy['Broad Bean Origin'] == \"\\xa0\"]\n",
    "\n",
    "#73 instances here and will change to np.nan\n",
    "data_copy['Broad Bean Origin'] = data_copy['Broad Bean Origin'].replace(\"\\xa0\", np.nan)\n",
    "\n",
    "#check nulls\n",
    "data_copy.isna().sum()"
   ]
  },
  {
   "cell_type": "code",
   "execution_count": 8,
   "metadata": {},
   "outputs": [],
   "source": [
    "#remove \"\\xa0\" from company/make feature by replace name\n",
    "data_copy.columns = ['Company (Maker-if known)'] + list(data_copy.columns[1:])"
   ]
  },
  {
   "cell_type": "markdown",
   "metadata": {},
   "source": [
    "## Dealing with nulls"
   ]
  },
  {
   "cell_type": "markdown",
   "metadata": {},
   "source": [
    "Bean Type has approximately 50% nulls and to replace them is not worthwhile. This feature can be dropped.\n",
    "\n",
    "Broad Bean Origin nulls can be dropped too, I don't know how to accurately imppute or map the values without introducing bias, so I will elect to drop the nulls here too.\n",
    " "
   ]
  },
  {
   "cell_type": "code",
   "execution_count": 9,
   "metadata": {},
   "outputs": [],
   "source": [
    "#drop Bean Type feature\n",
    "data_copy = data_copy.drop('Bean Type', axis=1)\n",
    "\n",
    "#drop nulls - rows\n",
    "data_copy = data_copy.dropna()"
   ]
  },
  {
   "cell_type": "code",
   "execution_count": 10,
   "metadata": {},
   "outputs": [
    {
     "name": "stdout",
     "output_type": "stream",
     "text": [
      "Data loss is -4.12 percent\n"
     ]
    }
   ],
   "source": [
    "#calc data loss due to dropping nulls\n",
    "original_size = data.shape[0]\n",
    "new_size = data_copy.shape[0]\n",
    "loss = ((new_size / original_size) - 1) * 100\n",
    "print(f\"Data loss is {loss:.2f} percent\")"
   ]
  },
  {
   "cell_type": "code",
   "execution_count": 18,
   "metadata": {},
   "outputs": [
    {
     "data": {
      "text/plain": [
       "Company  (Maker-if known)           0\n",
       "Specific Bean Origin or Bar Name    0\n",
       "REF                                 0\n",
       "Review Date                         0\n",
       "Cocoa Percent                       0\n",
       "Company Location                    0\n",
       "Rating                              0\n",
       "Broad Bean Origin                   0\n",
       "dtype: int64"
      ]
     },
     "execution_count": 18,
     "metadata": {},
     "output_type": "execute_result"
    }
   ],
   "source": [
    "#check nulls for sanity\n",
    "data_copy.isna().sum()"
   ]
  },
  {
   "cell_type": "code",
   "execution_count": 19,
   "metadata": {},
   "outputs": [
    {
     "name": "stdout",
     "output_type": "stream",
     "text": [
      "<class 'pandas.core.frame.DataFrame'>\n",
      "Index: 1721 entries, 0 to 1794\n",
      "Data columns (total 8 columns):\n",
      " #   Column                            Non-Null Count  Dtype  \n",
      "---  ------                            --------------  -----  \n",
      " 0   Company  (Maker-if known)         1721 non-null   object \n",
      " 1   Specific Bean Origin or Bar Name  1721 non-null   object \n",
      " 2   REF                               1721 non-null   int64  \n",
      " 3   Review Date                       1721 non-null   int64  \n",
      " 4   Cocoa Percent                     1721 non-null   object \n",
      " 5   Company Location                  1721 non-null   object \n",
      " 6   Rating                            1721 non-null   float64\n",
      " 7   Broad Bean Origin                 1721 non-null   object \n",
      "dtypes: float64(1), int64(2), object(5)\n",
      "memory usage: 121.0+ KB\n"
     ]
    }
   ],
   "source": [
    "data_copy.info()"
   ]
  },
  {
   "cell_type": "code",
   "execution_count": 11,
   "metadata": {},
   "outputs": [
    {
     "name": "stdout",
     "output_type": "stream",
     "text": [
      "<class 'pandas.core.frame.DataFrame'>\n",
      "Index: 1721 entries, 0 to 1794\n",
      "Data columns (total 8 columns):\n",
      " #   Column                            Non-Null Count  Dtype  \n",
      "---  ------                            --------------  -----  \n",
      " 0   Company (Maker-if known)          1721 non-null   object \n",
      " 1   Specific Bean Origin or Bar Name  1721 non-null   object \n",
      " 2   REF                               1721 non-null   int64  \n",
      " 3   Review Date                       1721 non-null   int64  \n",
      " 4   Cocoa Percent                     1721 non-null   float64\n",
      " 5   Company Location                  1721 non-null   object \n",
      " 6   Rating                            1721 non-null   float64\n",
      " 7   Broad Bean Origin                 1721 non-null   object \n",
      "dtypes: float64(2), int64(2), object(4)\n",
      "memory usage: 121.0+ KB\n"
     ]
    }
   ],
   "source": [
    "#need to change cocoa percent to float\n",
    "data_copy['Cocoa Percent'] = data_copy['Cocoa Percent'].str.replace(\"%\", \"\")\n",
    "\n",
    "#change to float\n",
    "data_copy['Cocoa Percent'] = data_copy['Cocoa Percent'].astype(float)\n",
    "data_copy['Cocoa Percent'] = (data_copy['Cocoa Percent'] / 100).round(2)\n",
    "\n",
    "#check\n",
    "data_copy.info()"
   ]
  },
  {
   "cell_type": "code",
   "execution_count": 12,
   "metadata": {},
   "outputs": [],
   "source": [
    "# drop some more features as they don't carry much information - REF\n",
    "data_copy = data_copy.drop('REF', axis=1)\n"
   ]
  },
  {
   "cell_type": "markdown",
   "metadata": {},
   "source": [
    "Let's explore :))))"
   ]
  },
  {
   "cell_type": "code",
   "execution_count": 31,
   "metadata": {},
   "outputs": [
    {
     "name": "stdout",
     "output_type": "stream",
     "text": [
      "<class 'pandas.core.frame.DataFrame'>\n",
      "Index: 1721 entries, 0 to 1794\n",
      "Data columns (total 7 columns):\n",
      " #   Column                            Non-Null Count  Dtype  \n",
      "---  ------                            --------------  -----  \n",
      " 0   Company (Maker-if known)          1721 non-null   object \n",
      " 1   Specific Bean Origin or Bar Name  1721 non-null   object \n",
      " 2   Review Date                       1721 non-null   int64  \n",
      " 3   Cocoa Percent                     1721 non-null   float64\n",
      " 4   Company Location                  1721 non-null   object \n",
      " 5   Rating                            1721 non-null   float64\n",
      " 6   Broad Bean Origin                 1721 non-null   object \n",
      "dtypes: float64(2), int64(1), object(4)\n",
      "memory usage: 107.6+ KB\n"
     ]
    }
   ],
   "source": [
    "data_copy.info()"
   ]
  },
  {
   "cell_type": "code",
   "execution_count": 44,
   "metadata": {},
   "outputs": [
    {
     "data": {
      "text/plain": [
       "Company (Maker-if known)            409\n",
       "Specific Bean Origin or Bar Name    981\n",
       "Review Date                          12\n",
       "Cocoa Percent                        42\n",
       "Company Location                     60\n",
       "Rating                               13\n",
       "Broad Bean Origin                    99\n",
       "dtype: int64"
      ]
     },
     "execution_count": 44,
     "metadata": {},
     "output_type": "execute_result"
    }
   ],
   "source": [
    "#unique values per feature\n",
    "data_copy.nunique()"
   ]
  },
  {
   "cell_type": "code",
   "execution_count": 51,
   "metadata": {},
   "outputs": [
    {
     "data": {
      "image/png": "[encoded data removed]",
      "text/plain": [
       "<Figure size 640x480 with 1 Axes>"
      ]
     },
     "metadata": {},
     "output_type": "display_data"
    }
   ],
   "source": [
    "#make some histograms from Date and Rating, won't do too many visuals here\n",
    "def make_histogram(dataframe, feature):\n",
    "    plt.hist(dataframe[feature])\n",
    "    plt.title(feature)\n",
    "    plt.show()\n",
    "\n",
    "#make hist for Date\n",
    "make_histogram(data_copy, 'Review Date')"
   ]
  },
  {
   "cell_type": "markdown",
   "metadata": {},
   "source": [
    "Slight increase in the number of reviews as time went on"
   ]
  },
  {
   "cell_type": "code",
   "execution_count": 52,
   "metadata": {},
   "outputs": [
    {
     "data": {
      "image/png": "[encoded data removed]",
      "text/plain": [
       "<Figure size 640x480 with 1 Axes>"
      ]
     },
     "metadata": {},
     "output_type": "display_data"
    }
   ],
   "source": [
    "#histogram for percent\n",
    "make_histogram(data_copy, 'Cocoa Percent')"
   ]
  },
  {
   "cell_type": "markdown",
   "metadata": {},
   "source": [
    "Data is relatively normal, but kurtosis is present"
   ]
  },
  {
   "cell_type": "code",
   "execution_count": 53,
   "metadata": {},
   "outputs": [
    {
     "data": {
      "image/png": "[encoded data removed]",
      "text/plain": [
       "<Figure size 640x480 with 1 Axes>"
      ]
     },
     "metadata": {},
     "output_type": "display_data"
    }
   ],
   "source": [
    "# histogam for rating\n",
    "make_histogram(data_copy, 'Rating')"
   ]
  },
  {
   "cell_type": "code",
   "execution_count": 13,
   "metadata": {},
   "outputs": [
    {
     "data": {
      "text/plain": [
       "<seaborn.axisgrid.PairGrid at 0x7f7f04f68b90>"
      ]
     },
     "execution_count": 13,
     "metadata": {},
     "output_type": "execute_result"
    },
    {
     "data": {
      "image/png": "[encoded data removed]",
      "text/plain": [
       "<Figure size 500x500 with 6 Axes>"
      ]
     },
     "metadata": {},
     "output_type": "display_data"
    }
   ],
   "source": [
    "#pair plot with the numerical variables\n",
    "sns.pairplot(data_copy[['Rating', 'Cocoa Percent']])"
   ]
  },
  {
   "cell_type": "markdown",
   "metadata": {},
   "source": [
    "Relatively noraml but does skew a bit. No clear linear relationship"
   ]
  },
  {
   "cell_type": "markdown",
   "metadata": {},
   "source": [
    "Statisitcal tests:\n",
    "- correlation with ratings and cocoa percent\n",
    "- Anova for country and ratings and cocoa percent, and bean origin and ratings and cocoa percent\n",
    "- OLS for ratings"
   ]
  },
  {
   "cell_type": "code",
   "execution_count": 56,
   "metadata": {},
   "outputs": [
    {
     "data": {
      "text/plain": [
       "<Axes: >"
      ]
     },
     "execution_count": 56,
     "metadata": {},
     "output_type": "execute_result"
    },
    {
     "data": {
      "image/png": "[encoded data removed]",
      "text/plain": [
       "<Figure size 640x480 with 2 Axes>"
      ]
     },
     "metadata": {},
     "output_type": "display_data"
    }
   ],
   "source": [
    "#correlation\n",
    "correlation = data_copy[['Rating', 'Cocoa Percent']].corr()\n",
    "sns.heatmap(correlation, cmap='coolwarm', annot=True)"
   ]
  },
  {
   "cell_type": "code",
   "execution_count": 23,
   "metadata": {},
   "outputs": [
    {
     "data": {
      "text/html": [
       "<div>\n",
       "<style scoped>\n",
       "    .dataframe tbody tr th:only-of-type {\n",
       "        vertical-align: middle;\n",
       "    }\n",
       "\n",
       "    .dataframe tbody tr th {\n",
       "        vertical-align: top;\n",
       "    }\n",
       "\n",
       "    .dataframe thead th {\n",
       "        text-align: right;\n",
       "    }\n",
       "</style>\n",
       "<table border=\"1\" class=\"dataframe\">\n",
       "  <thead>\n",
       "    <tr style=\"text-align: right;\">\n",
       "      <th></th>\n",
       "      <th>Company Location</th>\n",
       "      <th>Rating</th>\n",
       "    </tr>\n",
       "  </thead>\n",
       "  <tbody>\n",
       "    <tr>\n",
       "      <th>0</th>\n",
       "      <td>Amsterdam</td>\n",
       "      <td>3.500000</td>\n",
       "    </tr>\n",
       "    <tr>\n",
       "      <th>1</th>\n",
       "      <td>Argentina</td>\n",
       "      <td>3.305556</td>\n",
       "    </tr>\n",
       "    <tr>\n",
       "      <th>2</th>\n",
       "      <td>Australia</td>\n",
       "      <td>3.380435</td>\n",
       "    </tr>\n",
       "    <tr>\n",
       "      <th>3</th>\n",
       "      <td>Austria</td>\n",
       "      <td>3.239130</td>\n",
       "    </tr>\n",
       "    <tr>\n",
       "      <th>4</th>\n",
       "      <td>Belgium</td>\n",
       "      <td>3.250000</td>\n",
       "    </tr>\n",
       "    <tr>\n",
       "      <th>5</th>\n",
       "      <td>Bolivia</td>\n",
       "      <td>3.250000</td>\n",
       "    </tr>\n",
       "    <tr>\n",
       "      <th>6</th>\n",
       "      <td>Brazil</td>\n",
       "      <td>3.397059</td>\n",
       "    </tr>\n",
       "    <tr>\n",
       "      <th>7</th>\n",
       "      <td>Canada</td>\n",
       "      <td>3.350427</td>\n",
       "    </tr>\n",
       "    <tr>\n",
       "      <th>8</th>\n",
       "      <td>Chile</td>\n",
       "      <td>3.750000</td>\n",
       "    </tr>\n",
       "    <tr>\n",
       "      <th>9</th>\n",
       "      <td>Colombia</td>\n",
       "      <td>3.173913</td>\n",
       "    </tr>\n",
       "    <tr>\n",
       "      <th>10</th>\n",
       "      <td>Costa Rica</td>\n",
       "      <td>3.138889</td>\n",
       "    </tr>\n",
       "    <tr>\n",
       "      <th>11</th>\n",
       "      <td>Czech Republic</td>\n",
       "      <td>2.750000</td>\n",
       "    </tr>\n",
       "    <tr>\n",
       "      <th>12</th>\n",
       "      <td>Denmark</td>\n",
       "      <td>3.283333</td>\n",
       "    </tr>\n",
       "    <tr>\n",
       "      <th>13</th>\n",
       "      <td>Domincan Republic</td>\n",
       "      <td>3.200000</td>\n",
       "    </tr>\n",
       "    <tr>\n",
       "      <th>14</th>\n",
       "      <td>Ecuador</td>\n",
       "      <td>3.009259</td>\n",
       "    </tr>\n",
       "    <tr>\n",
       "      <th>15</th>\n",
       "      <td>Eucador</td>\n",
       "      <td>3.000000</td>\n",
       "    </tr>\n",
       "    <tr>\n",
       "      <th>16</th>\n",
       "      <td>Fiji</td>\n",
       "      <td>3.250000</td>\n",
       "    </tr>\n",
       "    <tr>\n",
       "      <th>17</th>\n",
       "      <td>Finland</td>\n",
       "      <td>3.250000</td>\n",
       "    </tr>\n",
       "    <tr>\n",
       "      <th>18</th>\n",
       "      <td>France</td>\n",
       "      <td>3.303819</td>\n",
       "    </tr>\n",
       "    <tr>\n",
       "      <th>19</th>\n",
       "      <td>Germany</td>\n",
       "      <td>3.178571</td>\n",
       "    </tr>\n",
       "    <tr>\n",
       "      <th>20</th>\n",
       "      <td>Ghana</td>\n",
       "      <td>2.750000</td>\n",
       "    </tr>\n",
       "    <tr>\n",
       "      <th>21</th>\n",
       "      <td>Grenada</td>\n",
       "      <td>2.833333</td>\n",
       "    </tr>\n",
       "    <tr>\n",
       "      <th>22</th>\n",
       "      <td>Guatemala</td>\n",
       "      <td>3.350000</td>\n",
       "    </tr>\n",
       "    <tr>\n",
       "      <th>23</th>\n",
       "      <td>Honduras</td>\n",
       "      <td>3.208333</td>\n",
       "    </tr>\n",
       "    <tr>\n",
       "      <th>24</th>\n",
       "      <td>Hungary</td>\n",
       "      <td>3.204545</td>\n",
       "    </tr>\n",
       "    <tr>\n",
       "      <th>25</th>\n",
       "      <td>Iceland</td>\n",
       "      <td>3.416667</td>\n",
       "    </tr>\n",
       "    <tr>\n",
       "      <th>26</th>\n",
       "      <td>India</td>\n",
       "      <td>2.500000</td>\n",
       "    </tr>\n",
       "    <tr>\n",
       "      <th>27</th>\n",
       "      <td>Ireland</td>\n",
       "      <td>2.812500</td>\n",
       "    </tr>\n",
       "    <tr>\n",
       "      <th>28</th>\n",
       "      <td>Israel</td>\n",
       "      <td>3.250000</td>\n",
       "    </tr>\n",
       "    <tr>\n",
       "      <th>29</th>\n",
       "      <td>Italy</td>\n",
       "      <td>3.282407</td>\n",
       "    </tr>\n",
       "    <tr>\n",
       "      <th>30</th>\n",
       "      <td>Japan</td>\n",
       "      <td>3.088235</td>\n",
       "    </tr>\n",
       "    <tr>\n",
       "      <th>31</th>\n",
       "      <td>Lithuania</td>\n",
       "      <td>3.166667</td>\n",
       "    </tr>\n",
       "    <tr>\n",
       "      <th>32</th>\n",
       "      <td>Madagascar</td>\n",
       "      <td>3.147059</td>\n",
       "    </tr>\n",
       "    <tr>\n",
       "      <th>33</th>\n",
       "      <td>Martinique</td>\n",
       "      <td>2.750000</td>\n",
       "    </tr>\n",
       "    <tr>\n",
       "      <th>34</th>\n",
       "      <td>Mexico</td>\n",
       "      <td>2.687500</td>\n",
       "    </tr>\n",
       "    <tr>\n",
       "      <th>35</th>\n",
       "      <td>Netherlands</td>\n",
       "      <td>3.500000</td>\n",
       "    </tr>\n",
       "    <tr>\n",
       "      <th>36</th>\n",
       "      <td>New Zealand</td>\n",
       "      <td>3.191176</td>\n",
       "    </tr>\n",
       "    <tr>\n",
       "      <th>37</th>\n",
       "      <td>Niacragua</td>\n",
       "      <td>2.750000</td>\n",
       "    </tr>\n",
       "    <tr>\n",
       "      <th>38</th>\n",
       "      <td>Nicaragua</td>\n",
       "      <td>3.000000</td>\n",
       "    </tr>\n",
       "    <tr>\n",
       "      <th>39</th>\n",
       "      <td>Peru</td>\n",
       "      <td>2.897059</td>\n",
       "    </tr>\n",
       "    <tr>\n",
       "      <th>40</th>\n",
       "      <td>Philippines</td>\n",
       "      <td>3.500000</td>\n",
       "    </tr>\n",
       "    <tr>\n",
       "      <th>41</th>\n",
       "      <td>Poland</td>\n",
       "      <td>3.500000</td>\n",
       "    </tr>\n",
       "    <tr>\n",
       "      <th>42</th>\n",
       "      <td>Portugal</td>\n",
       "      <td>2.750000</td>\n",
       "    </tr>\n",
       "    <tr>\n",
       "      <th>43</th>\n",
       "      <td>Puerto Rico</td>\n",
       "      <td>2.625000</td>\n",
       "    </tr>\n",
       "    <tr>\n",
       "      <th>44</th>\n",
       "      <td>Russia</td>\n",
       "      <td>3.250000</td>\n",
       "    </tr>\n",
       "    <tr>\n",
       "      <th>45</th>\n",
       "      <td>Sao Tome</td>\n",
       "      <td>2.937500</td>\n",
       "    </tr>\n",
       "    <tr>\n",
       "      <th>46</th>\n",
       "      <td>Scotland</td>\n",
       "      <td>3.325000</td>\n",
       "    </tr>\n",
       "    <tr>\n",
       "      <th>47</th>\n",
       "      <td>Singapore</td>\n",
       "      <td>3.333333</td>\n",
       "    </tr>\n",
       "    <tr>\n",
       "      <th>48</th>\n",
       "      <td>South Africa</td>\n",
       "      <td>2.666667</td>\n",
       "    </tr>\n",
       "    <tr>\n",
       "      <th>49</th>\n",
       "      <td>South Korea</td>\n",
       "      <td>3.200000</td>\n",
       "    </tr>\n",
       "    <tr>\n",
       "      <th>50</th>\n",
       "      <td>Spain</td>\n",
       "      <td>3.309524</td>\n",
       "    </tr>\n",
       "    <tr>\n",
       "      <th>51</th>\n",
       "      <td>St. Lucia</td>\n",
       "      <td>3.000000</td>\n",
       "    </tr>\n",
       "    <tr>\n",
       "      <th>52</th>\n",
       "      <td>Suriname</td>\n",
       "      <td>3.250000</td>\n",
       "    </tr>\n",
       "    <tr>\n",
       "      <th>53</th>\n",
       "      <td>Sweden</td>\n",
       "      <td>3.050000</td>\n",
       "    </tr>\n",
       "    <tr>\n",
       "      <th>54</th>\n",
       "      <td>Switzerland</td>\n",
       "      <td>3.392857</td>\n",
       "    </tr>\n",
       "    <tr>\n",
       "      <th>55</th>\n",
       "      <td>U.K.</td>\n",
       "      <td>3.060526</td>\n",
       "    </tr>\n",
       "    <tr>\n",
       "      <th>56</th>\n",
       "      <td>U.S.A.</td>\n",
       "      <td>3.156716</td>\n",
       "    </tr>\n",
       "    <tr>\n",
       "      <th>57</th>\n",
       "      <td>Venezuela</td>\n",
       "      <td>3.175000</td>\n",
       "    </tr>\n",
       "    <tr>\n",
       "      <th>58</th>\n",
       "      <td>Vietnam</td>\n",
       "      <td>3.409091</td>\n",
       "    </tr>\n",
       "    <tr>\n",
       "      <th>59</th>\n",
       "      <td>Wales</td>\n",
       "      <td>2.750000</td>\n",
       "    </tr>\n",
       "  </tbody>\n",
       "</table>\n",
       "</div>"
      ],
      "text/plain": [
       "     Company Location    Rating\n",
       "0           Amsterdam  3.500000\n",
       "1           Argentina  3.305556\n",
       "2           Australia  3.380435\n",
       "3             Austria  3.239130\n",
       "4             Belgium  3.250000\n",
       "5             Bolivia  3.250000\n",
       "6              Brazil  3.397059\n",
       "7              Canada  3.350427\n",
       "8               Chile  3.750000\n",
       "9            Colombia  3.173913\n",
       "10         Costa Rica  3.138889\n",
       "11     Czech Republic  2.750000\n",
       "12            Denmark  3.283333\n",
       "13  Domincan Republic  3.200000\n",
       "14            Ecuador  3.009259\n",
       "15            Eucador  3.000000\n",
       "16               Fiji  3.250000\n",
       "17            Finland  3.250000\n",
       "18             France  3.303819\n",
       "19            Germany  3.178571\n",
       "20              Ghana  2.750000\n",
       "21            Grenada  2.833333\n",
       "22          Guatemala  3.350000\n",
       "23           Honduras  3.208333\n",
       "24            Hungary  3.204545\n",
       "25            Iceland  3.416667\n",
       "26              India  2.500000\n",
       "27            Ireland  2.812500\n",
       "28             Israel  3.250000\n",
       "29              Italy  3.282407\n",
       "30              Japan  3.088235\n",
       "31          Lithuania  3.166667\n",
       "32         Madagascar  3.147059\n",
       "33         Martinique  2.750000\n",
       "34             Mexico  2.687500\n",
       "35        Netherlands  3.500000\n",
       "36        New Zealand  3.191176\n",
       "37          Niacragua  2.750000\n",
       "38          Nicaragua  3.000000\n",
       "39               Peru  2.897059\n",
       "40        Philippines  3.500000\n",
       "41             Poland  3.500000\n",
       "42           Portugal  2.750000\n",
       "43        Puerto Rico  2.625000\n",
       "44             Russia  3.250000\n",
       "45           Sao Tome  2.937500\n",
       "46           Scotland  3.325000\n",
       "47          Singapore  3.333333\n",
       "48       South Africa  2.666667\n",
       "49        South Korea  3.200000\n",
       "50              Spain  3.309524\n",
       "51          St. Lucia  3.000000\n",
       "52           Suriname  3.250000\n",
       "53             Sweden  3.050000\n",
       "54        Switzerland  3.392857\n",
       "55               U.K.  3.060526\n",
       "56             U.S.A.  3.156716\n",
       "57          Venezuela  3.175000\n",
       "58            Vietnam  3.409091\n",
       "59              Wales  2.750000"
      ]
     },
     "execution_count": 23,
     "metadata": {},
     "output_type": "execute_result"
    }
   ],
   "source": [
    "#country df group by country and get mean\n",
    "country_df = data_copy.groupby('Company Location')['Rating'].mean()\n",
    "country_df = country_df.reset_index()\n",
    "country_df"
   ]
  },
  {
   "cell_type": "code",
   "execution_count": 38,
   "metadata": {},
   "outputs": [],
   "source": [
    "#courtesy of ChatGPT :)\n",
    "\n",
    "# Create a dictionary to map country names to column names\n",
    "country_column_map = {country: f'Rating_{country}' for country in country_df['Company Location']} #create map using country df to assign mean rating to country\n",
    "\n",
    "# Create a list of data arrays for ANOVA\n",
    "data_arrays = [country_df[country_df['Company Location'] == country]['Rating'].values #create array of values using map created above\n",
    "               for country in country_column_map.keys()]"
   ]
  },
  {
   "cell_type": "code",
   "execution_count": 39,
   "metadata": {},
   "outputs": [
    {
     "name": "stdout",
     "output_type": "stream",
     "text": [
      "ANOVA F-statistic: nan\n",
      "ANOVA p-value: nan\n",
      "Fail to reject the null hypothesis: No significant difference among group means.\n"
     ]
    },
    {
     "name": "stderr",
     "output_type": "stream",
     "text": [
      "/tmp/ipykernel_136854/968267724.py:3: DegenerateDataWarning: all input arrays have length 1.  f_oneway requires that at least one input has length greater than 1.\n",
      "  f_statistic, p_value = stats.f_oneway(*data_arrays) #use asterick to unpack array\n"
     ]
    }
   ],
   "source": [
    "#Anova\n",
    "# need to get all countries\n",
    "f_statistic, p_value = stats.f_oneway(*data_arrays) #use asterick to unpack array\n",
    "\n",
    "print(f\"ANOVA F-statistic: {f_statistic:.4f}\")\n",
    "print(f\"ANOVA p-value: {p_value:.4f}\")\n",
    "\n",
    "if p_value < 0.05:\n",
    "    print(\"Reject the null hypothesis: At least one group mean is different.\")\n",
    "else:\n",
    "    print(\"Fail to reject the null hypothesis: No significant difference among group means.\")\n"
   ]
  }
 ],
 "metadata": {
  "kernelspec": {
   "display_name": "ds_env",
   "language": "python",
   "name": "ds_env"
  },
  "language_info": {
   "codemirror_mode": {
    "name": "ipython",
    "version": 3
   },
   "file_extension": ".py",
   "mimetype": "text/x-python",
   "name": "python",
   "nbconvert_exporter": "python",
   "pygments_lexer": "ipython3",
   "version": "3.12.2"
  },
  "orig_nbformat": 4
 },
 "nbformat": 4,
 "nbformat_minor": 2
}
